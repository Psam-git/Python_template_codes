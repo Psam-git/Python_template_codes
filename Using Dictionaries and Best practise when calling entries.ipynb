{
 "cells": [
  {
   "cell_type": "code",
   "execution_count": null,
   "metadata": {
    "collapsed": true
   },
   "outputs": [],
   "source": [
    "\n",
    "Making Dictionaries\n",
    "Making Dictionaries\n",
    "In [62]:\n",
    "\n",
    "'Deliveryinstructions'\n",
    "orders = [{'orderid': 82, 'customername':'Lorro', 'delivery':'ups','basket':{'51':5,'87':2}},{'orderid': 12, 'customername':'Psam','delivery':'ups','delivery':'ups','Deliveryinstructions':'leave with neighbour','basket':{'106':10,'14':7}}]\n",
    "\n",
    "ng Dictionaries \n",
    "Calling Dictionaries \n",
    "In [61]:\n",
    "\n",
    "'Deliveryinstructions'\n",
    "ordersdict [0]['Deliveryinstructions']\n",
    "---------------------------------------------------------------------------\n",
    "KeyError                                  Traceback (most recent call last)\n",
    "<ipython-input-61-8ecc5c207f9e> in <module>()\n",
    "----> 1 ordersdict [0]['Deliveryinstructions']\n",
    "\n",
    "KeyError: 'Deliveryinstructions'\n",
    "\n",
    "In [51]:\n",
    "\n",
    "for o in ordersdict:\n",
    "    print o['customername']\n",
    "Lorro\n",
    "Psam\n",
    "\n",
    "ll Does not Exist \n",
    "When Cell Does not Exist \n",
    "In [63]:\n",
    "\n",
    "print type(orders)\n",
    "<type 'list'>\n",
    "In [70]:\n",
    "\n",
    "No Instructions\n",
    "for order in orders:\n",
    "   print order.get('Deliveryinstructions','No Instructions')\n",
    "No Instructions\n",
    "leave with neighbour\n",
    "In [ ]:\n",
    "\n"
   ]
  }
 ],
 "metadata": {
  "anaconda-cloud": {},
  "kernelspec": {
   "display_name": "Python [conda root]",
   "language": "python",
   "name": "conda-root-py"
  },
  "language_info": {
   "codemirror_mode": {
    "name": "ipython",
    "version": 2
   },
   "file_extension": ".py",
   "mimetype": "text/x-python",
   "name": "python",
   "nbconvert_exporter": "python",
   "pygments_lexer": "ipython2",
   "version": "2.7.12"
  }
 },
 "nbformat": 4,
 "nbformat_minor": 1
}
