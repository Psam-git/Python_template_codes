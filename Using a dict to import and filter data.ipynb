{
 "cells": [
  {
   "cell_type": "code",
   "execution_count": 1,
   "metadata": {
    "collapsed": true
   },
   "outputs": [],
   "source": [
    "tup = [('a','b','c'),('x','y','z'),('r','s','t')]"
   ]
  },
  {
   "cell_type": "code",
   "execution_count": 2,
   "metadata": {
    "collapsed": false
   },
   "outputs": [
    {
     "name": "stdout",
     "output_type": "stream",
     "text": [
      "[('a', 'b', 'c'), ('x', 'y', 'z'), ('r', 's', 't')]\n"
     ]
    }
   ],
   "source": [
    "print tup"
   ]
  },
  {
   "cell_type": "code",
   "execution_count": 5,
   "metadata": {
    "collapsed": false
   },
   "outputs": [
    {
     "name": "stdout",
     "output_type": "stream",
     "text": [
      "b\n",
      "y\n",
      "s\n"
     ]
    }
   ],
   "source": [
    "for t1,t2,t3 in tup:\n",
    " print t2"
   ]
  },
  {
   "cell_type": "code",
   "execution_count": 25,
   "metadata": {
    "collapsed": false
   },
   "outputs": [
    {
     "name": "stdout",
     "output_type": "stream",
     "text": [
      "1991 4350.76349565\n",
      "1992 3329.819952\n",
      "1993 3125.79577037\n",
      "1994 3057.17495185\n",
      "1995 2173.17202683\n",
      "1996 2019.91292391\n",
      "1997 2093.10549111\n",
      "1998 2442.319564\n",
      "1999 2592.52262542\n",
      "2000 3188.80402206\n",
      "2001 4456.25173284\n",
      "2002 4589.74288472\n",
      "2003 5430.70900299\n",
      "2004 6070.31997568\n",
      "2005 7153.80145568\n",
      "2006 9182.98182039\n",
      "2007 10338.2947587\n",
      "2008 11278.9064824\n",
      "2009 13114.7631882\n",
      "2010 14707.6666573\n",
      "2011 16873.7951352\n",
      "2012 18428.362742\n",
      "2013 19194.3312479\n",
      "2014 24015.051313\n",
      "2015 27637.2366\n"
     ]
    }
   ],
   "source": [
    "import csv\n",
    "\n",
    "with open(r\"C:\\Users\\Student30\\Documents\\Used car data sets\\cnt_km_year_powerPS_minPrice_maxPrice_avgPrice_sdPrice.csv\", \"r\") as w:\n",
    " carsales = csv.DictReader(w, delimiter=\",\",skipinitialspace=True) \n",
    " cs = {}\n",
    " carsales.next() #skips first line\n",
    " for c in carsales:\n",
    "    yr = int(c[\"year\"])\n",
    "    pr = float(c[\"avgPrice\"])\n",
    "    if cs.get(yr,0) <> 0: # \"the method setdefault is similar to get(), but will set dict[key]=default if key is not already in dict\"\n",
    "        cs.setdefault(yr,list()).append(pr)\n",
    "    else:\n",
    "        cs.setdefault(yr,list()).append(pr)\n",
    "sales = {yr: sum(prices)/len(prices) for yr, prices in cs.iteritems()}\n",
    "for s, p in sales.iteritems():\n",
    " print s, p"
   ]
  },
  {
   "cell_type": "code",
   "execution_count": null,
   "metadata": {
    "collapsed": true
   },
   "outputs": [],
   "source": [
    "for n in carsales:\n",
    "     cs[yr] += pr"
   ]
  }
 ],
 "metadata": {
  "anaconda-cloud": {},
  "kernelspec": {
   "display_name": "Python [conda root]",
   "language": "python",
   "name": "conda-root-py"
  },
  "language_info": {
   "codemirror_mode": {
    "name": "ipython",
    "version": 2.0
   },
   "file_extension": ".py",
   "mimetype": "text/x-python",
   "name": "python",
   "nbconvert_exporter": "python",
   "pygments_lexer": "ipython2",
   "version": "2.7.12"
  }
 },
 "nbformat": 4,
 "nbformat_minor": 0
}