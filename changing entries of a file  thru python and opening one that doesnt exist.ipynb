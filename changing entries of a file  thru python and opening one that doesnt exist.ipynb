{
 "cells": [
  {
   "cell_type": "code",
   "execution_count": 1,
   "metadata": {
    "collapsed": false
   },
   "outputs": [
    {
     "name": "stdout",
     "output_type": "stream",
     "text": [
      "C:\\Users\\Student30\\Documents\\python practise folder\n"
     ]
    }
   ],
   "source": [
    "import os\n",
    "pwd = os.getcwd() #gets current working directory\n",
    "print pwd\n"
   ]
  },
  {
   "cell_type": "code",
   "execution_count": 6,
   "metadata": {
    "collapsed": false
   },
   "outputs": [
    {
     "ename": "IOError",
     "evalue": "[Errno 2] No such file or directory: 'C:\\\\data\\\\pythondataexamples1.txt'",
     "output_type": "error",
     "traceback": [
      "\u001b[0;31m---------------------------------------------------------------------------\u001b[0m",
      "\u001b[0;31mIOError\u001b[0m                                   Traceback (most recent call last)",
      "\u001b[0;32m<ipython-input-6-8778d8644f97>\u001b[0m in \u001b[0;36m<module>\u001b[0;34m()\u001b[0m\n\u001b[1;32m      1\u001b[0m \u001b[0mfilename\u001b[0m \u001b[1;33m=\u001b[0m\u001b[1;34mu'C:\\data\\pythondataexamples.txt'\u001b[0m\u001b[1;33m\u001b[0m\u001b[0m\n\u001b[1;32m      2\u001b[0m \u001b[0maccessmode\u001b[0m \u001b[1;33m=\u001b[0m \u001b[1;34m'r+'\u001b[0m\u001b[1;33m\u001b[0m\u001b[0m\n\u001b[0;32m----> 3\u001b[0;31m \u001b[0mf\u001b[0m \u001b[1;33m=\u001b[0m \u001b[0mopen\u001b[0m\u001b[1;33m(\u001b[0m\u001b[1;34m'C:\\data\\pythondataexamples1.txt'\u001b[0m\u001b[1;33m,\u001b[0m \u001b[0maccessmode\u001b[0m\u001b[1;33m)\u001b[0m\u001b[1;33m\u001b[0m\u001b[0m\n\u001b[0m\u001b[1;32m      4\u001b[0m \u001b[0mf\u001b[0m\u001b[1;33m.\u001b[0m\u001b[0mwrite\u001b[0m\u001b[1;33m(\u001b[0m\u001b[1;34m\"first line of text.\"\u001b[0m\u001b[1;33m)\u001b[0m\u001b[1;33m\u001b[0m\u001b[0m\n\u001b[1;32m      5\u001b[0m \u001b[0mf\u001b[0m\u001b[1;33m.\u001b[0m\u001b[0mwrite\u001b[0m\u001b[1;33m(\u001b[0m\u001b[1;34m\"\\nSecond line of text\"\u001b[0m\u001b[1;33m)\u001b[0m\u001b[1;33m\u001b[0m\u001b[0m\n",
      "\u001b[0;31mIOError\u001b[0m: [Errno 2] No such file or directory: 'C:\\\\data\\\\pythondataexamples1.txt'"
     ]
    }
   ],
   "source": [
    "filename =u'C:\\data\\pythondataexamples.txt'\n",
    "accessmode = 'r+'\n",
    "f = open('C:\\data\\pythondataexamples1.txt', accessmode)\n",
    "f.write(\"first line of text.\")\n",
    "f.write(\"\\nSecond line of text\")\n",
    "\n",
    "f.close()"
   ]
  },
  {
   "cell_type": "code",
   "execution_count": 12,
   "metadata": {
    "collapsed": false
   },
   "outputs": [
    {
     "name": "stdout",
     "output_type": "stream",
     "text": [
      "type y to open file : y\n",
      "(<type 'exceptions.IOError'>, IOError(2, 'No such file or directory'), <traceback object at 0x00000000045D0E48>)\n",
      "file does not exist but I will create one\n"
     ]
    },
    {
     "ename": "SystemExit",
     "evalue": "",
     "output_type": "error",
     "traceback": [
      "An exception has occurred, use %tb to see the full traceback.\n",
      "\u001b[0;31mSystemExit\u001b[0m\n"
     ]
    }
   ],
   "source": [
    "\n",
    "accessmode = 'r+'\n",
    "newfilemode = 'w'\n",
    "\n",
    "import sys\n",
    "num = raw_input('type y to open file : ')\n",
    "\n",
    "try:\n",
    "\n",
    "    open(r'C:\\\\data\\\\pythondataexamples2.txt', accessmode)\n",
    "\n",
    "except IOError:\n",
    "    print sys.exc_info()\n",
    "\n",
    "    print 'file does not exist but I will create one'\n",
    "    sys.exit()\n",
    "    \n",
    "    f = open(r'C:\\\\data\\\\pythondataexamples2txt', 'w')\n",
    "\n",
    "    f.close()\n",
    "\n",
    "print 'new file created'\n",
    "\n"
   ]
  },
  {
   "cell_type": "code",
   "execution_count": 14,
   "metadata": {
    "collapsed": false
   },
   "outputs": [
    {
     "name": "stdout",
     "output_type": "stream",
     "text": [
      "type y to open file : y\n",
      "(<type 'exceptions.IOError'>, IOError(2, 'No such file or directory'), <traceback object at 0x00000000045D0808>)\n",
      "file does not exist but I will create one\n"
     ]
    },
    {
     "ename": "SystemExit",
     "evalue": "",
     "output_type": "error",
     "traceback": [
      "An exception has occurred, use %tb to see the full traceback.\n",
      "\u001b[0;31mSystemExit\u001b[0m\n"
     ]
    }
   ],
   "source": [
    "accessmode = 'r+' #opposite of w+ \n",
    "newfilemode = 'w'#opens new doc or overwrites old ones \n",
    "filepath =r'C:\\\\data\\\\pythondataexamples2.txt'\n",
    "\n",
    "import sys\n",
    "\n",
    "num = raw_input('type y to open file : ')\n",
    "\n",
    "try:\n",
    "\n",
    "    open(r'C:\\\\data\\\\pythondataexamples2.txt', accessmode)\n",
    "\n",
    "except IOError:\n",
    "    print sys.exc_info()\n",
    "\n",
    "    print 'file does not exist but I will create one'\n",
    "\n",
    "    f=open(filepath, 'w')\n",
    "    \n",
    "    f.write(\"first line of text.\")\n",
    "\n",
    "    f.write(\"\\nSecond line of text\")\n",
    "\n",
    "    f.close()\n",
    "    f = open(filepath, 'r+')\n",
    "    sys.exit()\n",
    "\n",
    "\n",
    "\n",
    "\n",
    "\n",
    "print 'new file created'"
   ]
  },
  {
   "cell_type": "code",
   "execution_count": null,
   "metadata": {
    "collapsed": true
   },
   "outputs": [],
   "source": []
  }
 ],
 "metadata": {
  "kernelspec": {
   "display_name": "Python [conda root]",
   "language": "python",
   "name": "conda-root-py"
  },
  "language_info": {
   "codemirror_mode": {
    "name": "ipython",
    "version": 2
   },
   "file_extension": ".py",
   "mimetype": "text/x-python",
   "name": "python",
   "nbconvert_exporter": "python",
   "pygments_lexer": "ipython2",
   "version": "2.7.12"
  }
 },
 "nbformat": 4,
 "nbformat_minor": 1
}
