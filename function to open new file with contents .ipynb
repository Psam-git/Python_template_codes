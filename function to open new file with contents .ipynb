{
 "cells": [
  {
   "cell_type": "markdown",
   "metadata": {},
   "source": [
    "A function to create files and pop with content"
   ]
  },
  {
   "cell_type": "code",
   "execution_count": 7,
   "metadata": {
    "collapsed": false
   },
   "outputs": [],
   "source": [
    "def writetofile(filepath, content):\n",
    "    try:\n",
    "        f = open(filepath, 'r+')\n",
    "    except IOError:\n",
    "        print 'file does not exist but I will create one'\n",
    "        #create the file \n",
    "        f=open(filepath, 'w')\n",
    "        f.close()\n",
    "        print 'opened in the except block w'\n",
    "        f = open(filepath, 'r+')\n",
    "    f.write(content)\n",
    "    #perhaps I want to do other stuff like read file\n",
    "    f.close()\n"
   ]
  },
  {
   "cell_type": "code",
   "execution_count": 9,
   "metadata": {
    "collapsed": false
   },
   "outputs": [
    {
     "name": "stdout",
     "output_type": "stream",
     "text": [
      "file does not exist but I will create one\n",
      "opened in the except block w\n"
     ]
    }
   ],
   "source": [
    "#testing new function\n",
    "\n",
    "writetofile('C:\\\\data\\\\pythondataexamples3.txt','ManU to win the league')"
   ]
  },
  {
   "cell_type": "code",
   "execution_count": null,
   "metadata": {
    "collapsed": true
   },
   "outputs": [],
   "source": []
  }
 ],
 "metadata": {
  "kernelspec": {
   "display_name": "Python [conda root]",
   "language": "python",
   "name": "conda-root-py"
  },
  "language_info": {
   "codemirror_mode": {
    "name": "ipython",
    "version": 2
   },
   "file_extension": ".py",
   "mimetype": "text/x-python",
   "name": "python",
   "nbconvert_exporter": "python",
   "pygments_lexer": "ipython2",
   "version": "2.7.12"
  }
 },
 "nbformat": 4,
 "nbformat_minor": 1
}
