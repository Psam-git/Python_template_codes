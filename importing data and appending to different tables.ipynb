{
 "cells": [
  {
   "cell_type": "code",
   "execution_count": null,
   "metadata": {
    "collapsed": true
   },
   "outputs": [],
   "source": [
    "dates=[]\n",
    "name=[]\n",
    "delivery=[]\n",
    "products=[]\n",
    "st=[]"
   ]
  },
  {
   "cell_type": "code",
   "execution_count": 110,
   "metadata": {
    "collapsed": false
   },
   "outputs": [],
   "source": [
    "import csv\n",
    "\n",
    "with open(r\"C:\\Users\\Student30\\Documents\\Python Scripts\\python data set practise.txt\", \"r\") as orders:\n",
    " oreader = csv.reader(orders, delimiter=\",\",quotechar=\"#\",skipinitialspace=True)\n",
    " for o in oreader:\n",
    "   products.append(o[4])"
   ]
  },
  {
   "cell_type": "code",
   "execution_count": 111,
   "metadata": {
    "collapsed": false
   },
   "outputs": [
    {
     "name": "stdout",
     "output_type": "stream",
     "text": [
      "['1,2,3,4,7', '145,25', '14,25,25', '26,5,18,30', '87,5,67']\n"
     ]
    }
   ],
   "source": [
    "print products"
   ]
  },
  {
   "cell_type": "code",
   "execution_count": 38,
   "metadata": {
    "collapsed": false
   },
   "outputs": [],
   "source": [
    "st0=['81', 'Psam', '2016-11-20', 'DHL', '[1', '2', '3', '4', '7]']\n",
    "st1=['14', 'John', '2015-10-15', 'UPS', '[145', '25]']\n",
    "st2=['14', 'Samson', '2014-6-11', 'DGS', '[14', '25', '25]']\n",
    "st3=['32', 'Lorro', '2016-6-5', 'DPS', '[26', '5', '18', '30]']\n",
    "st4=['32', 'Sonia', '2017-2-13', 'Fedex', '[87', '5', '67]']\n"
   ]
  },
  {
   "cell_type": "code",
   "execution_count": 115,
   "metadata": {
    "collapsed": true
   },
   "outputs": [],
   "source": [
    "st.append(st0)\n",
    "st.append(st1)\n",
    "st.append(st2)\n",
    "st.append(st3)\n",
    "st.append(st4)"
   ]
  },
  {
   "cell_type": "code",
   "execution_count": 116,
   "metadata": {
    "collapsed": false
   },
   "outputs": [
    {
     "data": {
      "text/plain": [
       "[['81', 'Psam', '2016-11-20', 'DHL', '[1', '2', '3', '4', '7]'],\n",
       " ['14', 'John', '2015-10-15', 'UPS', '[145', '25]'],\n",
       " ['14', 'Samson', '2014-6-11', 'DGS', '[14', '25', '25]'],\n",
       " ['32', 'Lorro', '2016-6-5', 'DPS', '[26', '5', '18', '30]'],\n",
       " ['32', 'Sonia', '2017-2-13', 'Fedex', '[87', '5', '67]']]"
      ]
     },
     "execution_count": 116,
     "metadata": {},
     "output_type": "execute_result"
    }
   ],
   "source": [
    "st"
   ]
  },
  {
   "cell_type": "code",
   "execution_count": 67,
   "metadata": {
    "collapsed": false
   },
   "outputs": [],
   "source": [
    "for i in o:\n",
    " dates.append(o[2])"
   ]
  },
  {
   "cell_type": "code",
   "execution_count": 68,
   "metadata": {
    "collapsed": false
   },
   "outputs": [
    {
     "name": "stdout",
     "output_type": "stream",
     "text": [
      "['2017-2-13', '2017-2-13', '2017-2-13', '2017-2-13', '2017-2-13']\n"
     ]
    }
   ],
   "source": [
    "print dates "
   ]
  },
  {
   "cell_type": "code",
   "execution_count": 71,
   "metadata": {
    "collapsed": true
   },
   "outputs": [],
   "source": [
    "for i in st:\n",
    "     name.append(i[1])"
   ]
  },
  {
   "cell_type": "code",
   "execution_count": 72,
   "metadata": {
    "collapsed": false
   },
   "outputs": [
    {
     "name": "stdout",
     "output_type": "stream",
     "text": [
      "['Psam', 'John', 'Samson', 'Lorro', 'Sonia']\n"
     ]
    }
   ],
   "source": [
    "print name"
   ]
  },
  {
   "cell_type": "code",
   "execution_count": 117,
   "metadata": {
    "collapsed": true
   },
   "outputs": [],
   "source": [
    "for i in st:\n",
    "     delivery.append(i[3])\n"
   ]
  },
  {
   "cell_type": "code",
   "execution_count": 118,
   "metadata": {
    "collapsed": false
   },
   "outputs": [
    {
     "name": "stdout",
     "output_type": "stream",
     "text": [
      "['DHL', 'UPS', 'DGS', 'DPS', 'Fedex']\n"
     ]
    }
   ],
   "source": [
    "print delivery\n"
   ]
  },
  {
   "cell_type": "code",
   "execution_count": 108,
   "metadata": {
    "collapsed": false
   },
   "outputs": [],
   "source": [
    "for i in st:\n",
    "\n",
    "    products.append(st[4])"
   ]
  },
  {
   "cell_type": "code",
   "execution_count": 109,
   "metadata": {
    "collapsed": false
   },
   "outputs": [
    {
     "name": "stdout",
     "output_type": "stream",
     "text": [
      "[]\n"
     ]
    }
   ],
   "source": [
    "print products"
   ]
  },
  {
   "cell_type": "code",
   "execution_count": null,
   "metadata": {
    "collapsed": true
   },
   "outputs": [],
   "source": []
  }
 ],
 "metadata": {
  "kernelspec": {
   "display_name": "Python [conda root]",
   "language": "python",
   "name": "conda-root-py"
  },
  "language_info": {
   "codemirror_mode": {
    "name": "ipython",
    "version": 2
   },
   "file_extension": ".py",
   "mimetype": "text/x-python",
   "name": "python",
   "nbconvert_exporter": "python",
   "pygments_lexer": "ipython2",
   "version": "2.7.12"
  }
 },
 "nbformat": 4,
 "nbformat_minor": 1
}
