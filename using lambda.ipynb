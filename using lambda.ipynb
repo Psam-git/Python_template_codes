{
 "cells": [
  {
   "cell_type": "code",
   "execution_count": null,
   "metadata": {
    "collapsed": true
   },
   "outputs": [],
   "source": [
    "Day_Max = w['Day Maximum Temperature'].map(lambda x: str(x)[1:3])\n",
    "Feel_Max = w['Feels Like Day Maximum Temperature'].map(lambda x: str(x)[1:3])\n",
    "Night_Min = w['Night Minimum Temperature'].map(lambda x: str(x)[1:3])\n",
    "\n",
    "ww = w[['Day Maximum Temperature','Feels Like Day Maximum Temperature','Feels Like Night Minimum Temperature','Night Minimum Temperature','Weather Type', 'Visibility','Wind Speed','timestamp']]\n",
    "ww['Day Maximum Temperature'] = Day_Max\n",
    "ww['Feels Like Day Maximum Temperature'] = Feel_Max\n",
    "ww['Night Minimum Temperature'] = Night_Min"
   ]
  },
  {
   "cell_type": "code",
   "execution_count": 1,
   "metadata": {
    "collapsed": false
   },
   "outputs": [
    {
     "data": {
      "text/plain": [
       "'C:\\\\Users\\\\Student30\\\\Documents\\\\python practise folder'"
      ]
     },
     "execution_count": 1,
     "metadata": {},
     "output_type": "execute_result"
    }
   ],
   "source": [
    "import os \n",
    "os.getcwd()"
   ]
  },
  {
   "cell_type": "code",
   "execution_count": null,
   "metadata": {
    "collapsed": true
   },
   "outputs": [],
   "source": []
  }
 ],
 "metadata": {
  "kernelspec": {
   "display_name": "Python [conda root]",
   "language": "python",
   "name": "conda-root-py"
  },
  "language_info": {
   "codemirror_mode": {
    "name": "ipython",
    "version": 2
   },
   "file_extension": ".py",
   "mimetype": "text/x-python",
   "name": "python",
   "nbconvert_exporter": "python",
   "pygments_lexer": "ipython2",
   "version": "2.7.12"
  }
 },
 "nbformat": 4,
 "nbformat_minor": 1
}
